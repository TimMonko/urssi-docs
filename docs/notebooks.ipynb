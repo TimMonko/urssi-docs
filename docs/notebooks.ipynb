{
 "cells": [
  {
   "cell_type": "markdown",
   "id": "6941a2f7",
   "metadata": {
    "vscode": {
     "languageId": "plaintext"
    }
   },
   "source": [
    "# Notebooks as Documentation\n",
    "\n",
    "I wasn't necessarily going to discuss notebooks, in part because I'm like many of you and wish to improve my noteboks, but I do want to show how easy they are to publish (which at least solves ONE person dependency).\n",
    "\n",
    "Also, I'm oging to start talking about notebooks by telling you to use [marimo](https://marimo.io/) (their docs are made with mkdocs!), despite being new to it personally. Marimo has many awesome features, but here are the core wins for me:\n",
    "1. it's pure python, so diffs are WAY easier to read (check out jupytext to write notebooks in markdown)\n",
    "2. things update one the fly, so you can't get different results by running cells in different order (and other opinionated things that help with this)\n",
    "\n",
    "You can also easily publish marimo notebooks with [mkdocs-marimo](https://github.com/marimo-team/mkdocs-marimo). \n",
    "\n",
    "Anyways...\n",
    "\n",
    "Publishing notebooks in deployed docs is usually as easy as adding an extension. For example in mkdocs you can use [mkdocs-jupyter](github.com/danielfrg/mkdocs-jupyter). You will need to add to mkdocs.yml:\n",
    "\n",
    "```yaml\n",
    "plugins:\n",
    "    - mkdocs-jupyter\n",
    "```"
   ]
  },
  {
   "cell_type": "markdown",
   "id": "20c965a6",
   "metadata": {},
   "source": []
  }
 ],
 "metadata": {
  "language_info": {
   "name": "python"
  }
 },
 "nbformat": 4,
 "nbformat_minor": 5
}
