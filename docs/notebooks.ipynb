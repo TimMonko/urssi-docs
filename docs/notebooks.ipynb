{
 "cells": [
  {
   "cell_type": "markdown",
   "id": "6941a2f7",
   "metadata": {
    "vscode": {
     "languageId": "plaintext"
    }
   },
   "source": [
    "# Notebooks as Documentation\n",
    "\n",
    "I wasn't necessarily going to discuss notebooks, in part because I'm like many of you and wish to improve my noteboks, but I do want to show how easy they are to publish (which at least solves ONE person dependency).\n",
    "\n",
    "Also, I'm oging to start talking about notebooks by telling you to use [marimo](https://marimo.io/) (docs are made with mkdocs!), despite it being very new to it myself. Marimo has many awesome features, but here are the core wins for me:\n",
    "1. it's pure python, so diffs are WAY easier to read\n",
    "2. things update one the fly, so you can't get different results by running cells in different order (and other opinionated things that help with this)"
   ]
  }
 ],
 "metadata": {
  "language_info": {
   "name": "python"
  }
 },
 "nbformat": 4,
 "nbformat_minor": 5
}
